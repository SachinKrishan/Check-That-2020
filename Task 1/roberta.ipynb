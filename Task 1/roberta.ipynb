{
 "cells": [
  {
   "cell_type": "code",
   "execution_count": 1,
   "metadata": {},
   "outputs": [],
   "source": [
    "import pandas as pd\n",
    "from simpletransformers.classification import ClassificationModel\n",
    "from sklearn.model_selection import train_test_split\n",
    "from sklearn.metrics import classification_report"
   ]
  },
  {
   "cell_type": "code",
   "execution_count": 2,
   "metadata": {},
   "outputs": [],
   "source": [
    "df = pd.read_csv('train.csv')\n",
    "df = df.rename(columns = {'tweet_text':'text', 'check_worthiness':'labels'})\n",
    "train, test = train_test_split(df, test_size=0.1, shuffle=False)\n",
    "test = test.drop(['index', 'topic_id', 'tweet_id', 'tweet_url', 'claim'], 1)"
   ]
  },
  {
   "cell_type": "code",
   "execution_count": 3,
   "metadata": {},
   "outputs": [],
   "source": [
    "model = ClassificationModel('roberta', 'roberta-base', args={\"num_train_epochs\": 40, \n",
    "                                                                  \"fp16_opt_level\" : 'O0',\n",
    "                                                                 \"max_seq_length\" : 300,\n",
    "                                                                  \"overwrite_output_dir\": True, \n",
    "                                                                  \"save_eval_checkpoints\": False, \n",
    "                                                                  \"save_model_every_epoch\": False})"
   ]
  },
  {
   "cell_type": "code",
   "execution_count": 4,
   "metadata": {},
   "outputs": [
    {
     "data": {
      "application/vnd.jupyter.widget-view+json": {
       "model_id": "b858b19df0794b5bad4b2815279fe7e0",
       "version_major": 2,
       "version_minor": 0
      },
      "text/plain": [
       "HBox(children=(FloatProgress(value=0.0, max=739.0), HTML(value='')))"
      ]
     },
     "metadata": {},
     "output_type": "display_data"
    },
    {
     "name": "stdout",
     "output_type": "stream",
     "text": [
      "\n",
      "Selected optimization level O0:  Pure FP32 training.\n",
      "\n",
      "Defaults for this optimization level are:\n",
      "enabled                : True\n",
      "opt_level              : O0\n",
      "cast_model_type        : torch.float32\n",
      "patch_torch_functions  : False\n",
      "keep_batchnorm_fp32    : None\n",
      "master_weights         : False\n",
      "loss_scale             : 1.0\n",
      "Processing user overrides (additional kwargs that are not None)...\n",
      "After processing overrides, optimization options are:\n",
      "enabled                : True\n",
      "opt_level              : O0\n",
      "cast_model_type        : torch.float32\n",
      "patch_torch_functions  : False\n",
      "keep_batchnorm_fp32    : None\n",
      "master_weights         : False\n",
      "loss_scale             : 1.0\n",
      "Warning:  multi_tensor_applier fused unscale kernel is unavailable, possibly because apex was installed without --cuda_ext --cpp_ext. Using Python fallback.  Original ImportError was: ModuleNotFoundError(\"No module named 'amp_C'\")\n"
     ]
    },
    {
     "data": {
      "application/vnd.jupyter.widget-view+json": {
       "model_id": "fdc13f77b70c4182bc149c5a2a568b09",
       "version_major": 2,
       "version_minor": 0
      },
      "text/plain": [
       "HBox(children=(FloatProgress(value=0.0, description='Epoch', max=40.0, style=ProgressStyle(description_width='…"
      ]
     },
     "metadata": {},
     "output_type": "display_data"
    },
    {
     "data": {
      "application/vnd.jupyter.widget-view+json": {
       "model_id": "441d59b44da54ba1b249206708516813",
       "version_major": 2,
       "version_minor": 0
      },
      "text/plain": [
       "HBox(children=(FloatProgress(value=0.0, description='Current iteration', max=93.0, style=ProgressStyle(descrip…"
      ]
     },
     "metadata": {},
     "output_type": "display_data"
    },
    {
     "name": "stdout",
     "output_type": "stream",
     "text": [
      "Running loss: 0.125237\n"
     ]
    },
    {
     "data": {
      "application/vnd.jupyter.widget-view+json": {
       "model_id": "684d1f9279f64df2a381faf5282ef2a7",
       "version_major": 2,
       "version_minor": 0
      },
      "text/plain": [
       "HBox(children=(FloatProgress(value=0.0, description='Current iteration', max=93.0, style=ProgressStyle(descrip…"
      ]
     },
     "metadata": {},
     "output_type": "display_data"
    },
    {
     "name": "stdout",
     "output_type": "stream",
     "text": [
      "Running loss: 0.563463\n"
     ]
    },
    {
     "data": {
      "application/vnd.jupyter.widget-view+json": {
       "model_id": "b7793063d1bf45f4992b801e0f674b2e",
       "version_major": 2,
       "version_minor": 0
      },
      "text/plain": [
       "HBox(children=(FloatProgress(value=0.0, description='Current iteration', max=93.0, style=ProgressStyle(descrip…"
      ]
     },
     "metadata": {},
     "output_type": "display_data"
    },
    {
     "name": "stdout",
     "output_type": "stream",
     "text": [
      "Running loss: 0.163172\n"
     ]
    },
    {
     "data": {
      "application/vnd.jupyter.widget-view+json": {
       "model_id": "a2544501bbd048adb8aee53d1a3bef7e",
       "version_major": 2,
       "version_minor": 0
      },
      "text/plain": [
       "HBox(children=(FloatProgress(value=0.0, description='Current iteration', max=93.0, style=ProgressStyle(descrip…"
      ]
     },
     "metadata": {},
     "output_type": "display_data"
    },
    {
     "name": "stdout",
     "output_type": "stream",
     "text": [
      "Running loss: 0.017699\n"
     ]
    },
    {
     "data": {
      "application/vnd.jupyter.widget-view+json": {
       "model_id": "1443b26577cf4fedbd5ede1697c92990",
       "version_major": 2,
       "version_minor": 0
      },
      "text/plain": [
       "HBox(children=(FloatProgress(value=0.0, description='Current iteration', max=93.0, style=ProgressStyle(descrip…"
      ]
     },
     "metadata": {},
     "output_type": "display_data"
    },
    {
     "name": "stdout",
     "output_type": "stream",
     "text": [
      "Running loss: 1.074391\n"
     ]
    },
    {
     "data": {
      "application/vnd.jupyter.widget-view+json": {
       "model_id": "00220ea1546f4d5a8bce0bdbd38085fd",
       "version_major": 2,
       "version_minor": 0
      },
      "text/plain": [
       "HBox(children=(FloatProgress(value=0.0, description='Current iteration', max=93.0, style=ProgressStyle(descrip…"
      ]
     },
     "metadata": {},
     "output_type": "display_data"
    },
    {
     "name": "stdout",
     "output_type": "stream",
     "text": [
      "Running loss: 0.132919\n"
     ]
    },
    {
     "data": {
      "application/vnd.jupyter.widget-view+json": {
       "model_id": "890c6099eb4e4dd7b6b292bda66659ff",
       "version_major": 2,
       "version_minor": 0
      },
      "text/plain": [
       "HBox(children=(FloatProgress(value=0.0, description='Current iteration', max=93.0, style=ProgressStyle(descrip…"
      ]
     },
     "metadata": {},
     "output_type": "display_data"
    },
    {
     "name": "stdout",
     "output_type": "stream",
     "text": [
      "Running loss: 0.852879\n"
     ]
    },
    {
     "data": {
      "application/vnd.jupyter.widget-view+json": {
       "model_id": "c4086f49625446e8ac76d4776fd5575c",
       "version_major": 2,
       "version_minor": 0
      },
      "text/plain": [
       "HBox(children=(FloatProgress(value=0.0, description='Current iteration', max=93.0, style=ProgressStyle(descrip…"
      ]
     },
     "metadata": {},
     "output_type": "display_data"
    },
    {
     "name": "stdout",
     "output_type": "stream",
     "text": [
      "Running loss: 0.007091\n"
     ]
    },
    {
     "data": {
      "application/vnd.jupyter.widget-view+json": {
       "model_id": "47c90aa6a7844902a984563f2c8fa7d0",
       "version_major": 2,
       "version_minor": 0
      },
      "text/plain": [
       "HBox(children=(FloatProgress(value=0.0, description='Current iteration', max=93.0, style=ProgressStyle(descrip…"
      ]
     },
     "metadata": {},
     "output_type": "display_data"
    },
    {
     "name": "stdout",
     "output_type": "stream",
     "text": [
      "Running loss: 0.003175\n"
     ]
    },
    {
     "data": {
      "application/vnd.jupyter.widget-view+json": {
       "model_id": "e9ce52d3c2094e66a72087487ace3f8e",
       "version_major": 2,
       "version_minor": 0
      },
      "text/plain": [
       "HBox(children=(FloatProgress(value=0.0, description='Current iteration', max=93.0, style=ProgressStyle(descrip…"
      ]
     },
     "metadata": {},
     "output_type": "display_data"
    },
    {
     "name": "stdout",
     "output_type": "stream",
     "text": [
      "Running loss: 0.001073\n"
     ]
    },
    {
     "data": {
      "application/vnd.jupyter.widget-view+json": {
       "model_id": "110b64a47421455994ade2ac1beed4e1",
       "version_major": 2,
       "version_minor": 0
      },
      "text/plain": [
       "HBox(children=(FloatProgress(value=0.0, description='Current iteration', max=93.0, style=ProgressStyle(descrip…"
      ]
     },
     "metadata": {},
     "output_type": "display_data"
    },
    {
     "name": "stdout",
     "output_type": "stream",
     "text": [
      "Running loss: 0.000531\n"
     ]
    },
    {
     "data": {
      "application/vnd.jupyter.widget-view+json": {
       "model_id": "f2f98ef416004571962257b3194f9a8c",
       "version_major": 2,
       "version_minor": 0
      },
      "text/plain": [
       "HBox(children=(FloatProgress(value=0.0, description='Current iteration', max=93.0, style=ProgressStyle(descrip…"
      ]
     },
     "metadata": {},
     "output_type": "display_data"
    },
    {
     "name": "stdout",
     "output_type": "stream",
     "text": [
      "Running loss: 0.000346\n"
     ]
    },
    {
     "data": {
      "application/vnd.jupyter.widget-view+json": {
       "model_id": "5222617ec783465a819972338121e80a",
       "version_major": 2,
       "version_minor": 0
      },
      "text/plain": [
       "HBox(children=(FloatProgress(value=0.0, description='Current iteration', max=93.0, style=ProgressStyle(descrip…"
      ]
     },
     "metadata": {},
     "output_type": "display_data"
    },
    {
     "name": "stdout",
     "output_type": "stream",
     "text": [
      "Running loss: 0.000288\n"
     ]
    },
    {
     "data": {
      "application/vnd.jupyter.widget-view+json": {
       "model_id": "03387e8804e84250b3c1c403a7e78735",
       "version_major": 2,
       "version_minor": 0
      },
      "text/plain": [
       "HBox(children=(FloatProgress(value=0.0, description='Current iteration', max=93.0, style=ProgressStyle(descrip…"
      ]
     },
     "metadata": {},
     "output_type": "display_data"
    },
    {
     "name": "stdout",
     "output_type": "stream",
     "text": [
      "Running loss: 0.000142\n"
     ]
    },
    {
     "data": {
      "application/vnd.jupyter.widget-view+json": {
       "model_id": "77a262d5646043499e5df76a33e9182c",
       "version_major": 2,
       "version_minor": 0
      },
      "text/plain": [
       "HBox(children=(FloatProgress(value=0.0, description='Current iteration', max=93.0, style=ProgressStyle(descrip…"
      ]
     },
     "metadata": {},
     "output_type": "display_data"
    },
    {
     "name": "stdout",
     "output_type": "stream",
     "text": [
      "Running loss: 0.000069\n"
     ]
    },
    {
     "data": {
      "application/vnd.jupyter.widget-view+json": {
       "model_id": "132b9f6a136745b4a70289b85765cb70",
       "version_major": 2,
       "version_minor": 0
      },
      "text/plain": [
       "HBox(children=(FloatProgress(value=0.0, description='Current iteration', max=93.0, style=ProgressStyle(descrip…"
      ]
     },
     "metadata": {},
     "output_type": "display_data"
    },
    {
     "name": "stdout",
     "output_type": "stream",
     "text": [
      "Running loss: 0.000170\n"
     ]
    },
    {
     "data": {
      "application/vnd.jupyter.widget-view+json": {
       "model_id": "d0255c2185d34f7a8ac205e7853c74aa",
       "version_major": 2,
       "version_minor": 0
      },
      "text/plain": [
       "HBox(children=(FloatProgress(value=0.0, description='Current iteration', max=93.0, style=ProgressStyle(descrip…"
      ]
     },
     "metadata": {},
     "output_type": "display_data"
    },
    {
     "name": "stdout",
     "output_type": "stream",
     "text": [
      "Running loss: 0.028253\n"
     ]
    },
    {
     "data": {
      "application/vnd.jupyter.widget-view+json": {
       "model_id": "d8b980ac927045aa975bfcb19860198b",
       "version_major": 2,
       "version_minor": 0
      },
      "text/plain": [
       "HBox(children=(FloatProgress(value=0.0, description='Current iteration', max=93.0, style=ProgressStyle(descrip…"
      ]
     },
     "metadata": {},
     "output_type": "display_data"
    },
    {
     "name": "stdout",
     "output_type": "stream",
     "text": [
      "Running loss: 0.000078\n"
     ]
    },
    {
     "data": {
      "application/vnd.jupyter.widget-view+json": {
       "model_id": "8a0f67c83bd94b81919af9e2c046a749",
       "version_major": 2,
       "version_minor": 0
      },
      "text/plain": [
       "HBox(children=(FloatProgress(value=0.0, description='Current iteration', max=93.0, style=ProgressStyle(descrip…"
      ]
     },
     "metadata": {},
     "output_type": "display_data"
    },
    {
     "name": "stdout",
     "output_type": "stream",
     "text": [
      "Running loss: 0.000084\n"
     ]
    },
    {
     "data": {
      "application/vnd.jupyter.widget-view+json": {
       "model_id": "579aed8838ff478ea2b80345fc362107",
       "version_major": 2,
       "version_minor": 0
      },
      "text/plain": [
       "HBox(children=(FloatProgress(value=0.0, description='Current iteration', max=93.0, style=ProgressStyle(descrip…"
      ]
     },
     "metadata": {},
     "output_type": "display_data"
    },
    {
     "name": "stdout",
     "output_type": "stream",
     "text": [
      "Running loss: 0.000053\n"
     ]
    },
    {
     "data": {
      "application/vnd.jupyter.widget-view+json": {
       "model_id": "304329109d7244d081985416d5b9b1c5",
       "version_major": 2,
       "version_minor": 0
      },
      "text/plain": [
       "HBox(children=(FloatProgress(value=0.0, description='Current iteration', max=93.0, style=ProgressStyle(descrip…"
      ]
     },
     "metadata": {},
     "output_type": "display_data"
    },
    {
     "name": "stdout",
     "output_type": "stream",
     "text": [
      "Running loss: 0.000036\n"
     ]
    },
    {
     "data": {
      "application/vnd.jupyter.widget-view+json": {
       "model_id": "74e8d1c692f6449f9f5fae266c2d39a2",
       "version_major": 2,
       "version_minor": 0
      },
      "text/plain": [
       "HBox(children=(FloatProgress(value=0.0, description='Current iteration', max=93.0, style=ProgressStyle(descrip…"
      ]
     },
     "metadata": {},
     "output_type": "display_data"
    },
    {
     "name": "stdout",
     "output_type": "stream",
     "text": [
      "Running loss: 0.000047\n"
     ]
    },
    {
     "data": {
      "application/vnd.jupyter.widget-view+json": {
       "model_id": "1d6bdbdf66454ddabd5f6ef026aff47a",
       "version_major": 2,
       "version_minor": 0
      },
      "text/plain": [
       "HBox(children=(FloatProgress(value=0.0, description='Current iteration', max=93.0, style=ProgressStyle(descrip…"
      ]
     },
     "metadata": {},
     "output_type": "display_data"
    },
    {
     "name": "stdout",
     "output_type": "stream",
     "text": [
      "Running loss: 0.000042\n"
     ]
    },
    {
     "data": {
      "application/vnd.jupyter.widget-view+json": {
       "model_id": "b6f235ab737f4f6098d0f0ede6562e05",
       "version_major": 2,
       "version_minor": 0
      },
      "text/plain": [
       "HBox(children=(FloatProgress(value=0.0, description='Current iteration', max=93.0, style=ProgressStyle(descrip…"
      ]
     },
     "metadata": {},
     "output_type": "display_data"
    },
    {
     "name": "stdout",
     "output_type": "stream",
     "text": [
      "Running loss: 0.000029\n"
     ]
    },
    {
     "data": {
      "application/vnd.jupyter.widget-view+json": {
       "model_id": "8c503e3208d443b897e96d612f99e08a",
       "version_major": 2,
       "version_minor": 0
      },
      "text/plain": [
       "HBox(children=(FloatProgress(value=0.0, description='Current iteration', max=93.0, style=ProgressStyle(descrip…"
      ]
     },
     "metadata": {},
     "output_type": "display_data"
    },
    {
     "name": "stdout",
     "output_type": "stream",
     "text": [
      "Running loss: 0.000033\n"
     ]
    },
    {
     "data": {
      "application/vnd.jupyter.widget-view+json": {
       "model_id": "1ef2474497aa4ada8fc343ca0bae8845",
       "version_major": 2,
       "version_minor": 0
      },
      "text/plain": [
       "HBox(children=(FloatProgress(value=0.0, description='Current iteration', max=93.0, style=ProgressStyle(descrip…"
      ]
     },
     "metadata": {},
     "output_type": "display_data"
    },
    {
     "name": "stdout",
     "output_type": "stream",
     "text": [
      "Running loss: 0.000027\n"
     ]
    },
    {
     "data": {
      "application/vnd.jupyter.widget-view+json": {
       "model_id": "b3158ee9ccb942b2bbecbd52edc49437",
       "version_major": 2,
       "version_minor": 0
      },
      "text/plain": [
       "HBox(children=(FloatProgress(value=0.0, description='Current iteration', max=93.0, style=ProgressStyle(descrip…"
      ]
     },
     "metadata": {},
     "output_type": "display_data"
    },
    {
     "name": "stdout",
     "output_type": "stream",
     "text": [
      "Running loss: 0.000053\n"
     ]
    },
    {
     "data": {
      "application/vnd.jupyter.widget-view+json": {
       "model_id": "217d681e41bb4a91abd00ac074883d74",
       "version_major": 2,
       "version_minor": 0
      },
      "text/plain": [
       "HBox(children=(FloatProgress(value=0.0, description='Current iteration', max=93.0, style=ProgressStyle(descrip…"
      ]
     },
     "metadata": {},
     "output_type": "display_data"
    },
    {
     "name": "stdout",
     "output_type": "stream",
     "text": [
      "Running loss: 0.000035\n"
     ]
    },
    {
     "data": {
      "application/vnd.jupyter.widget-view+json": {
       "model_id": "6e85f4d8b7824dcaaf804c0a720a2a36",
       "version_major": 2,
       "version_minor": 0
      },
      "text/plain": [
       "HBox(children=(FloatProgress(value=0.0, description='Current iteration', max=93.0, style=ProgressStyle(descrip…"
      ]
     },
     "metadata": {},
     "output_type": "display_data"
    },
    {
     "name": "stdout",
     "output_type": "stream",
     "text": [
      "Running loss: 0.000027\n"
     ]
    },
    {
     "data": {
      "application/vnd.jupyter.widget-view+json": {
       "model_id": "aaf07d37670e4843af4c75287ea10bf7",
       "version_major": 2,
       "version_minor": 0
      },
      "text/plain": [
       "HBox(children=(FloatProgress(value=0.0, description='Current iteration', max=93.0, style=ProgressStyle(descrip…"
      ]
     },
     "metadata": {},
     "output_type": "display_data"
    },
    {
     "name": "stdout",
     "output_type": "stream",
     "text": [
      "Running loss: 0.000026\n"
     ]
    },
    {
     "data": {
      "application/vnd.jupyter.widget-view+json": {
       "model_id": "6300263a0d344147b3d28ffdf1dea437",
       "version_major": 2,
       "version_minor": 0
      },
      "text/plain": [
       "HBox(children=(FloatProgress(value=0.0, description='Current iteration', max=93.0, style=ProgressStyle(descrip…"
      ]
     },
     "metadata": {},
     "output_type": "display_data"
    },
    {
     "name": "stdout",
     "output_type": "stream",
     "text": [
      "Running loss: 0.000031\n"
     ]
    },
    {
     "data": {
      "application/vnd.jupyter.widget-view+json": {
       "model_id": "b4200c5d0955404894d7425fd012f98b",
       "version_major": 2,
       "version_minor": 0
      },
      "text/plain": [
       "HBox(children=(FloatProgress(value=0.0, description='Current iteration', max=93.0, style=ProgressStyle(descrip…"
      ]
     },
     "metadata": {},
     "output_type": "display_data"
    },
    {
     "name": "stdout",
     "output_type": "stream",
     "text": [
      "Running loss: 0.000020\n"
     ]
    },
    {
     "data": {
      "application/vnd.jupyter.widget-view+json": {
       "model_id": "2d28403fbbe34ab1855f797e0f780281",
       "version_major": 2,
       "version_minor": 0
      },
      "text/plain": [
       "HBox(children=(FloatProgress(value=0.0, description='Current iteration', max=93.0, style=ProgressStyle(descrip…"
      ]
     },
     "metadata": {},
     "output_type": "display_data"
    },
    {
     "name": "stdout",
     "output_type": "stream",
     "text": [
      "Running loss: 0.000024\n"
     ]
    },
    {
     "data": {
      "application/vnd.jupyter.widget-view+json": {
       "model_id": "a3dfd88b98da41bc8f45706fbf2a244a",
       "version_major": 2,
       "version_minor": 0
      },
      "text/plain": [
       "HBox(children=(FloatProgress(value=0.0, description='Current iteration', max=93.0, style=ProgressStyle(descrip…"
      ]
     },
     "metadata": {},
     "output_type": "display_data"
    },
    {
     "name": "stdout",
     "output_type": "stream",
     "text": [
      "Running loss: 0.000020\n"
     ]
    },
    {
     "data": {
      "application/vnd.jupyter.widget-view+json": {
       "model_id": "97a41c867344429395e1f9bfd6d5cbb1",
       "version_major": 2,
       "version_minor": 0
      },
      "text/plain": [
       "HBox(children=(FloatProgress(value=0.0, description='Current iteration', max=93.0, style=ProgressStyle(descrip…"
      ]
     },
     "metadata": {},
     "output_type": "display_data"
    },
    {
     "name": "stdout",
     "output_type": "stream",
     "text": [
      "Running loss: 0.000023\n"
     ]
    },
    {
     "data": {
      "application/vnd.jupyter.widget-view+json": {
       "model_id": "e4d7d2c1924144309319b4a1b41b3bec",
       "version_major": 2,
       "version_minor": 0
      },
      "text/plain": [
       "HBox(children=(FloatProgress(value=0.0, description='Current iteration', max=93.0, style=ProgressStyle(descrip…"
      ]
     },
     "metadata": {},
     "output_type": "display_data"
    },
    {
     "name": "stdout",
     "output_type": "stream",
     "text": [
      "Running loss: 0.000021\n"
     ]
    },
    {
     "data": {
      "application/vnd.jupyter.widget-view+json": {
       "model_id": "6575dafa9b024650920c70ad1025782e",
       "version_major": 2,
       "version_minor": 0
      },
      "text/plain": [
       "HBox(children=(FloatProgress(value=0.0, description='Current iteration', max=93.0, style=ProgressStyle(descrip…"
      ]
     },
     "metadata": {},
     "output_type": "display_data"
    },
    {
     "name": "stdout",
     "output_type": "stream",
     "text": [
      "Running loss: 0.000020\n"
     ]
    },
    {
     "data": {
      "application/vnd.jupyter.widget-view+json": {
       "model_id": "c5ad9f79f4c045dfa04373c3148e3825",
       "version_major": 2,
       "version_minor": 0
      },
      "text/plain": [
       "HBox(children=(FloatProgress(value=0.0, description='Current iteration', max=93.0, style=ProgressStyle(descrip…"
      ]
     },
     "metadata": {},
     "output_type": "display_data"
    },
    {
     "name": "stdout",
     "output_type": "stream",
     "text": [
      "Running loss: 0.000016\n"
     ]
    },
    {
     "data": {
      "application/vnd.jupyter.widget-view+json": {
       "model_id": "191c198eb9ef41748f39986f7df0b72e",
       "version_major": 2,
       "version_minor": 0
      },
      "text/plain": [
       "HBox(children=(FloatProgress(value=0.0, description='Current iteration', max=93.0, style=ProgressStyle(descrip…"
      ]
     },
     "metadata": {},
     "output_type": "display_data"
    },
    {
     "name": "stdout",
     "output_type": "stream",
     "text": [
      "Running loss: 0.000021\n"
     ]
    },
    {
     "data": {
      "application/vnd.jupyter.widget-view+json": {
       "model_id": "52058128e424468aa5ec3172751402b1",
       "version_major": 2,
       "version_minor": 0
      },
      "text/plain": [
       "HBox(children=(FloatProgress(value=0.0, description='Current iteration', max=93.0, style=ProgressStyle(descrip…"
      ]
     },
     "metadata": {},
     "output_type": "display_data"
    },
    {
     "name": "stdout",
     "output_type": "stream",
     "text": [
      "Running loss: 0.000019\n",
      "\n"
     ]
    }
   ],
   "source": [
    "model.train_model(train)"
   ]
  },
  {
   "cell_type": "code",
   "execution_count": 15,
   "metadata": {},
   "outputs": [
    {
     "data": {
      "application/vnd.jupyter.widget-view+json": {
       "model_id": "be7a59d61e87421e930fe7819652eeef",
       "version_major": 2,
       "version_minor": 0
      },
      "text/plain": [
       "HBox(children=(FloatProgress(value=0.0, max=83.0), HTML(value='')))"
      ]
     },
     "metadata": {},
     "output_type": "display_data"
    },
    {
     "name": "stdout",
     "output_type": "stream",
     "text": [
      "\n"
     ]
    },
    {
     "data": {
      "application/vnd.jupyter.widget-view+json": {
       "model_id": "90837e85889e41fcbe5ea2f300abb1b1",
       "version_major": 2,
       "version_minor": 0
      },
      "text/plain": [
       "HBox(children=(FloatProgress(value=0.0, max=11.0), HTML(value='')))"
      ]
     },
     "metadata": {},
     "output_type": "display_data"
    },
    {
     "name": "stdout",
     "output_type": "stream",
     "text": [
      "\n"
     ]
    },
    {
     "data": {
      "text/plain": [
       "({'mcc': 0.47570670890561023,\n",
       "  'tp': 28,\n",
       "  'tn': 33,\n",
       "  'fp': 8,\n",
       "  'fn': 14,\n",
       "  'eval_loss': 2.531253793925895},\n",
       " array([[-6.013085  ,  5.213481  ],\n",
       "        [ 6.0558877 , -5.4494047 ],\n",
       "        [-5.811372  ,  5.0082073 ],\n",
       "        [ 5.982779  , -5.2680864 ],\n",
       "        [-6.0178537 ,  5.2243805 ],\n",
       "        [ 6.0769916 , -5.43201   ],\n",
       "        [ 6.072044  , -5.4381638 ],\n",
       "        [-5.5146837 ,  4.766255  ],\n",
       "        [-6.02756   ,  5.23622   ],\n",
       "        [ 6.0659876 , -5.4385996 ],\n",
       "        [-6.01667   ,  5.227081  ],\n",
       "        [ 5.6447535 , -4.8945794 ],\n",
       "        [ 6.0697412 , -5.390399  ],\n",
       "        [ 5.8644323 , -5.111882  ],\n",
       "        [ 6.0575256 , -5.442384  ],\n",
       "        [-5.8522654 ,  5.078145  ],\n",
       "        [ 6.0450544 , -5.4166484 ],\n",
       "        [ 2.7410483 , -2.1364796 ],\n",
       "        [ 6.093438  , -5.4281273 ],\n",
       "        [ 0.84632796, -0.47330225],\n",
       "        [-4.4058213 ,  3.7791176 ],\n",
       "        [ 4.2651234 , -3.4245312 ],\n",
       "        [-5.9435244 ,  5.142928  ],\n",
       "        [ 5.2725782 , -4.4160485 ],\n",
       "        [ 6.0640736 , -5.3771806 ],\n",
       "        [-5.9609413 ,  5.1665077 ],\n",
       "        [-4.1643043 ,  3.6706367 ],\n",
       "        [-5.9982405 ,  5.210527  ],\n",
       "        [ 5.469488  , -4.6472616 ],\n",
       "        [ 6.027563  , -5.3395243 ],\n",
       "        [ 6.0811667 , -5.3978796 ],\n",
       "        [-5.138228  ,  4.381116  ],\n",
       "        [ 6.091135  , -5.4146338 ],\n",
       "        [ 5.7628355 , -4.9607563 ],\n",
       "        [ 5.9915123 , -5.300441  ],\n",
       "        [-1.0812979 ,  1.0136453 ],\n",
       "        [ 6.0081573 , -5.2970514 ],\n",
       "        [-6.027457  ,  5.2297964 ],\n",
       "        [-5.888271  ,  5.087242  ],\n",
       "        [-6.010156  ,  5.212208  ],\n",
       "        [ 5.4571743 , -4.603165  ],\n",
       "        [ 6.0172253 , -5.2689877 ],\n",
       "        [ 6.034381  , -5.2967105 ],\n",
       "        [ 4.9967504 , -4.1411757 ],\n",
       "        [ 5.4998984 , -4.6210327 ],\n",
       "        [-6.0161123 ,  5.2204227 ],\n",
       "        [-4.751481  ,  4.196228  ],\n",
       "        [-3.9141285 ,  3.4655275 ],\n",
       "        [ 5.9239197 , -5.1630034 ],\n",
       "        [ 5.3429775 , -4.491844  ],\n",
       "        [ 6.093321  , -5.442983  ],\n",
       "        [-6.009222  ,  5.2160444 ],\n",
       "        [-6.005944  ,  5.2078075 ],\n",
       "        [-5.9574018 ,  5.1500716 ],\n",
       "        [-4.6855536 ,  4.0667553 ],\n",
       "        [ 5.903494  , -5.126308  ],\n",
       "        [-5.7561913 ,  4.9560623 ],\n",
       "        [-4.18997   ,  3.6975782 ],\n",
       "        [ 6.0357847 , -5.298166  ],\n",
       "        [ 6.0658417 , -5.39767   ],\n",
       "        [-6.026159  ,  5.2286005 ],\n",
       "        [ 5.74214   , -4.973421  ],\n",
       "        [-5.8961096 ,  5.1039743 ],\n",
       "        [ 5.8178425 , -5.0107594 ],\n",
       "        [ 5.928808  , -5.191711  ],\n",
       "        [ 6.0826674 , -5.4059153 ],\n",
       "        [ 5.5477085 , -4.6945076 ],\n",
       "        [-6.0158367 ,  5.2184205 ],\n",
       "        [ 6.053406  , -5.422538  ],\n",
       "        [ 5.9704943 , -5.2532787 ],\n",
       "        [-6.00998   ,  5.2136517 ],\n",
       "        [ 6.0709705 , -5.4015245 ],\n",
       "        [ 5.679933  , -4.8993945 ],\n",
       "        [-5.9825106 ,  5.1913266 ],\n",
       "        [-5.9595366 ,  5.176318  ],\n",
       "        [-5.665623  ,  4.856129  ],\n",
       "        [ 5.5037565 , -4.7022305 ],\n",
       "        [-5.994502  ,  5.208768  ],\n",
       "        [ 5.865453  , -5.191164  ],\n",
       "        [ 5.1716995 , -4.291985  ],\n",
       "        [ 5.8787346 , -5.148429  ],\n",
       "        [-5.9054384 ,  5.1048536 ],\n",
       "        [-6.012869  ,  5.2127075 ]], dtype=float32),\n",
       " [<simpletransformers.classification.classification_utils.InputExample at 0x7fadf1a64f10>,\n",
       "  <simpletransformers.classification.classification_utils.InputExample at 0x7fadf1a64b90>,\n",
       "  <simpletransformers.classification.classification_utils.InputExample at 0x7fadf1a75690>,\n",
       "  <simpletransformers.classification.classification_utils.InputExample at 0x7fadf1a75050>,\n",
       "  <simpletransformers.classification.classification_utils.InputExample at 0x7fadf1a75d10>,\n",
       "  <simpletransformers.classification.classification_utils.InputExample at 0x7fadf1a75210>,\n",
       "  <simpletransformers.classification.classification_utils.InputExample at 0x7fadf1a75510>,\n",
       "  <simpletransformers.classification.classification_utils.InputExample at 0x7fadf1a755d0>,\n",
       "  <simpletransformers.classification.classification_utils.InputExample at 0x7fadf1a75d90>,\n",
       "  <simpletransformers.classification.classification_utils.InputExample at 0x7fadf1a75f50>,\n",
       "  <simpletransformers.classification.classification_utils.InputExample at 0x7fadf1a75650>,\n",
       "  <simpletransformers.classification.classification_utils.InputExample at 0x7fadf1a75a50>,\n",
       "  <simpletransformers.classification.classification_utils.InputExample at 0x7fadf1a75090>,\n",
       "  <simpletransformers.classification.classification_utils.InputExample at 0x7fadf1a75190>,\n",
       "  <simpletransformers.classification.classification_utils.InputExample at 0x7fadf1984ed0>,\n",
       "  <simpletransformers.classification.classification_utils.InputExample at 0x7fadf1984050>,\n",
       "  <simpletransformers.classification.classification_utils.InputExample at 0x7fadf1984110>,\n",
       "  <simpletransformers.classification.classification_utils.InputExample at 0x7fadf1984150>,\n",
       "  <simpletransformers.classification.classification_utils.InputExample at 0x7fadf19841d0>,\n",
       "  <simpletransformers.classification.classification_utils.InputExample at 0x7fadf1984350>,\n",
       "  <simpletransformers.classification.classification_utils.InputExample at 0x7fadf1984590>,\n",
       "  <simpletransformers.classification.classification_utils.InputExample at 0x7fadf1984750>])"
      ]
     },
     "execution_count": 15,
     "metadata": {},
     "output_type": "execute_result"
    }
   ],
   "source": [
    "model.eval_model(test)"
   ]
  },
  {
   "cell_type": "code",
   "execution_count": 12,
   "metadata": {},
   "outputs": [
    {
     "data": {
      "text/html": [
       "<div>\n",
       "<style scoped>\n",
       "    .dataframe tbody tr th:only-of-type {\n",
       "        vertical-align: middle;\n",
       "    }\n",
       "\n",
       "    .dataframe tbody tr th {\n",
       "        vertical-align: top;\n",
       "    }\n",
       "\n",
       "    .dataframe thead th {\n",
       "        text-align: right;\n",
       "    }\n",
       "</style>\n",
       "<table border=\"1\" class=\"dataframe\">\n",
       "  <thead>\n",
       "    <tr style=\"text-align: right;\">\n",
       "      <th></th>\n",
       "      <th>index</th>\n",
       "      <th>topic_id</th>\n",
       "      <th>tweet_id</th>\n",
       "      <th>tweet_url</th>\n",
       "      <th>tweet_text</th>\n",
       "    </tr>\n",
       "  </thead>\n",
       "  <tbody>\n",
       "    <tr>\n",
       "      <th>0</th>\n",
       "      <td>1</td>\n",
       "      <td>covid-19</td>\n",
       "      <td>1237160250513522688</td>\n",
       "      <td>https://twitter.com/user/status/12371602505135...</td>\n",
       "      <td>potus wanted everyone know close contact gaetz...</td>\n",
       "    </tr>\n",
       "    <tr>\n",
       "      <th>1</th>\n",
       "      <td>2</td>\n",
       "      <td>covid-19</td>\n",
       "      <td>1237125962871037953</td>\n",
       "      <td>https://twitter.com/user/status/12371259628710...</td>\n",
       "      <td>would prefer lead nation response growing coro...</td>\n",
       "    </tr>\n",
       "    <tr>\n",
       "      <th>2</th>\n",
       "      <td>3</td>\n",
       "      <td>covid-19</td>\n",
       "      <td>1237207721604235264</td>\n",
       "      <td>https://twitter.com/user/status/12372077216042...</td>\n",
       "      <td>really really really really really really real...</td>\n",
       "    </tr>\n",
       "    <tr>\n",
       "      <th>3</th>\n",
       "      <td>4</td>\n",
       "      <td>covid-19</td>\n",
       "      <td>1237178597024108552</td>\n",
       "      <td>https://twitter.com/user/status/12371785970241...</td>\n",
       "      <td>baldfaced lie replouiegohmert selfquarantine c...</td>\n",
       "    </tr>\n",
       "    <tr>\n",
       "      <th>4</th>\n",
       "      <td>5</td>\n",
       "      <td>covid-19</td>\n",
       "      <td>1237049051058561024</td>\n",
       "      <td>https://twitter.com/user/status/12370490510585...</td>\n",
       "      <td>live daily medium briefing covid drtedros coro...</td>\n",
       "    </tr>\n",
       "    <tr>\n",
       "      <th>...</th>\n",
       "      <td>...</td>\n",
       "      <td>...</td>\n",
       "      <td>...</td>\n",
       "      <td>...</td>\n",
       "      <td>...</td>\n",
       "    </tr>\n",
       "    <tr>\n",
       "      <th>135</th>\n",
       "      <td>136</td>\n",
       "      <td>covid-19</td>\n",
       "      <td>1237094362544209920</td>\n",
       "      <td>https://twitter.com/user/status/12370943625442...</td>\n",
       "      <td>corona virus spreading fast spread dont natura...</td>\n",
       "    </tr>\n",
       "    <tr>\n",
       "      <th>136</th>\n",
       "      <td>137</td>\n",
       "      <td>covid-19</td>\n",
       "      <td>1237063585580318720</td>\n",
       "      <td>https://twitter.com/user/status/12370635855803...</td>\n",
       "      <td>market crashing tourism dying travel reduced a...</td>\n",
       "    </tr>\n",
       "    <tr>\n",
       "      <th>137</th>\n",
       "      <td>138</td>\n",
       "      <td>covid-19</td>\n",
       "      <td>1237159267070664705</td>\n",
       "      <td>https://twitter.com/user/status/12371592670706...</td>\n",
       "      <td>pray palestine state emergency  case corona vi...</td>\n",
       "    </tr>\n",
       "    <tr>\n",
       "      <th>138</th>\n",
       "      <td>139</td>\n",
       "      <td>covid-19</td>\n",
       "      <td>1236972990492897281</td>\n",
       "      <td>https://twitter.com/user/status/12369729904928...</td>\n",
       "      <td>advisory student class suspension made safety ...</td>\n",
       "    </tr>\n",
       "    <tr>\n",
       "      <th>139</th>\n",
       "      <td>140</td>\n",
       "      <td>covid-19</td>\n",
       "      <td>1237177675212640261</td>\n",
       "      <td>https://twitter.com/user/status/12371776752126...</td>\n",
       "      <td>total iranian covid casecount hundred thousand...</td>\n",
       "    </tr>\n",
       "  </tbody>\n",
       "</table>\n",
       "<p>140 rows × 5 columns</p>\n",
       "</div>"
      ],
      "text/plain": [
       "     index  topic_id             tweet_id  \\\n",
       "0        1  covid-19  1237160250513522688   \n",
       "1        2  covid-19  1237125962871037953   \n",
       "2        3  covid-19  1237207721604235264   \n",
       "3        4  covid-19  1237178597024108552   \n",
       "4        5  covid-19  1237049051058561024   \n",
       "..     ...       ...                  ...   \n",
       "135    136  covid-19  1237094362544209920   \n",
       "136    137  covid-19  1237063585580318720   \n",
       "137    138  covid-19  1237159267070664705   \n",
       "138    139  covid-19  1236972990492897281   \n",
       "139    140  covid-19  1237177675212640261   \n",
       "\n",
       "                                             tweet_url  \\\n",
       "0    https://twitter.com/user/status/12371602505135...   \n",
       "1    https://twitter.com/user/status/12371259628710...   \n",
       "2    https://twitter.com/user/status/12372077216042...   \n",
       "3    https://twitter.com/user/status/12371785970241...   \n",
       "4    https://twitter.com/user/status/12370490510585...   \n",
       "..                                                 ...   \n",
       "135  https://twitter.com/user/status/12370943625442...   \n",
       "136  https://twitter.com/user/status/12370635855803...   \n",
       "137  https://twitter.com/user/status/12371592670706...   \n",
       "138  https://twitter.com/user/status/12369729904928...   \n",
       "139  https://twitter.com/user/status/12371776752126...   \n",
       "\n",
       "                                            tweet_text  \n",
       "0    potus wanted everyone know close contact gaetz...  \n",
       "1    would prefer lead nation response growing coro...  \n",
       "2    really really really really really really real...  \n",
       "3    baldfaced lie replouiegohmert selfquarantine c...  \n",
       "4    live daily medium briefing covid drtedros coro...  \n",
       "..                                                 ...  \n",
       "135  corona virus spreading fast spread dont natura...  \n",
       "136  market crashing tourism dying travel reduced a...  \n",
       "137  pray palestine state emergency  case corona vi...  \n",
       "138  advisory student class suspension made safety ...  \n",
       "139  total iranian covid casecount hundred thousand...  \n",
       "\n",
       "[140 rows x 5 columns]"
      ]
     },
     "execution_count": 12,
     "metadata": {},
     "output_type": "execute_result"
    }
   ],
   "source": [
    "temp = pd.read_csv('test.csv')\n",
    "temp"
   ]
  },
  {
   "cell_type": "code",
   "execution_count": 13,
   "metadata": {},
   "outputs": [],
   "source": [
    "model = ClassificationModel('roberta', 'outputs/')"
   ]
  },
  {
   "cell_type": "code",
   "execution_count": 14,
   "metadata": {},
   "outputs": [
    {
     "data": {
      "application/vnd.jupyter.widget-view+json": {
       "model_id": "383df8250675406888080a978f1d702c",
       "version_major": 2,
       "version_minor": 0
      },
      "text/plain": [
       "HBox(children=(FloatProgress(value=0.0, max=140.0), HTML(value='')))"
      ]
     },
     "metadata": {},
     "output_type": "display_data"
    },
    {
     "name": "stdout",
     "output_type": "stream",
     "text": [
      "\n"
     ]
    },
    {
     "data": {
      "application/vnd.jupyter.widget-view+json": {
       "model_id": "68f3ad6543254a3d8ca771be208cd47f",
       "version_major": 2,
       "version_minor": 0
      },
      "text/plain": [
       "HBox(children=(FloatProgress(value=0.0, max=18.0), HTML(value='')))"
      ]
     },
     "metadata": {},
     "output_type": "display_data"
    },
    {
     "name": "stdout",
     "output_type": "stream",
     "text": [
      "\n"
     ]
    }
   ],
   "source": [
    "results = model.predict(temp['tweet_text'])"
   ]
  },
  {
   "cell_type": "code",
   "execution_count": 15,
   "metadata": {},
   "outputs": [],
   "source": [
    "from scipy.special import softmax\n",
    "\n",
    "probabilities = softmax(results[1], axis=1)\n",
    "\n",
    "scores = []\n",
    "\n",
    "preds_df = pd.DataFrame(probabilities[:,1])\n",
    "preds_df.columns = ['score']\n",
    "\n",
    "submit = pd.merge(temp, preds_df, left_index=True, right_index=True)\n",
    "submit['run_id'] = \"T1-eng-SSN-Transformer\"\n",
    "    \n",
    "#temp['values'] = results[0]\n",
    "#temp['predictions'] = scores\n",
    "#temp = temp[temp['values'] == 1]\n",
    "#temp = temp.drop(['index', 'tweet_url', 'tweet_text'], 1)\n",
    "#temp['run_id'] = 'T2-eng-SSN-Roberta'\n",
    "#temp = temp.sort_values(by =['predictions'], ascending = 0) "
   ]
  },
  {
   "cell_type": "code",
   "execution_count": 16,
   "metadata": {},
   "outputs": [
    {
     "data": {
      "text/html": [
       "<div>\n",
       "<style scoped>\n",
       "    .dataframe tbody tr th:only-of-type {\n",
       "        vertical-align: middle;\n",
       "    }\n",
       "\n",
       "    .dataframe tbody tr th {\n",
       "        vertical-align: top;\n",
       "    }\n",
       "\n",
       "    .dataframe thead th {\n",
       "        text-align: right;\n",
       "    }\n",
       "</style>\n",
       "<table border=\"1\" class=\"dataframe\">\n",
       "  <thead>\n",
       "    <tr style=\"text-align: right;\">\n",
       "      <th></th>\n",
       "      <th>index</th>\n",
       "      <th>topic_id</th>\n",
       "      <th>tweet_id</th>\n",
       "      <th>tweet_url</th>\n",
       "      <th>tweet_text</th>\n",
       "      <th>score</th>\n",
       "      <th>run_id</th>\n",
       "    </tr>\n",
       "  </thead>\n",
       "  <tbody>\n",
       "    <tr>\n",
       "      <th>0</th>\n",
       "      <td>1</td>\n",
       "      <td>covid-19</td>\n",
       "      <td>1237160250513522688</td>\n",
       "      <td>https://twitter.com/user/status/12371602505135...</td>\n",
       "      <td>potus wanted everyone know close contact gaetz...</td>\n",
       "      <td>0.000010</td>\n",
       "      <td>T1-eng-SSN-Transformer</td>\n",
       "    </tr>\n",
       "    <tr>\n",
       "      <th>1</th>\n",
       "      <td>2</td>\n",
       "      <td>covid-19</td>\n",
       "      <td>1237125962871037953</td>\n",
       "      <td>https://twitter.com/user/status/12371259628710...</td>\n",
       "      <td>would prefer lead nation response growing coro...</td>\n",
       "      <td>0.000010</td>\n",
       "      <td>T1-eng-SSN-Transformer</td>\n",
       "    </tr>\n",
       "    <tr>\n",
       "      <th>2</th>\n",
       "      <td>3</td>\n",
       "      <td>covid-19</td>\n",
       "      <td>1237207721604235264</td>\n",
       "      <td>https://twitter.com/user/status/12372077216042...</td>\n",
       "      <td>really really really really really really real...</td>\n",
       "      <td>0.000020</td>\n",
       "      <td>T1-eng-SSN-Transformer</td>\n",
       "    </tr>\n",
       "    <tr>\n",
       "      <th>3</th>\n",
       "      <td>4</td>\n",
       "      <td>covid-19</td>\n",
       "      <td>1237178597024108552</td>\n",
       "      <td>https://twitter.com/user/status/12371785970241...</td>\n",
       "      <td>baldfaced lie replouiegohmert selfquarantine c...</td>\n",
       "      <td>0.999979</td>\n",
       "      <td>T1-eng-SSN-Transformer</td>\n",
       "    </tr>\n",
       "    <tr>\n",
       "      <th>4</th>\n",
       "      <td>5</td>\n",
       "      <td>covid-19</td>\n",
       "      <td>1237049051058561024</td>\n",
       "      <td>https://twitter.com/user/status/12370490510585...</td>\n",
       "      <td>live daily medium briefing covid drtedros coro...</td>\n",
       "      <td>0.000010</td>\n",
       "      <td>T1-eng-SSN-Transformer</td>\n",
       "    </tr>\n",
       "    <tr>\n",
       "      <th>...</th>\n",
       "      <td>...</td>\n",
       "      <td>...</td>\n",
       "      <td>...</td>\n",
       "      <td>...</td>\n",
       "      <td>...</td>\n",
       "      <td>...</td>\n",
       "      <td>...</td>\n",
       "    </tr>\n",
       "    <tr>\n",
       "      <th>135</th>\n",
       "      <td>136</td>\n",
       "      <td>covid-19</td>\n",
       "      <td>1237094362544209920</td>\n",
       "      <td>https://twitter.com/user/status/12370943625442...</td>\n",
       "      <td>corona virus spreading fast spread dont natura...</td>\n",
       "      <td>0.999981</td>\n",
       "      <td>T1-eng-SSN-Transformer</td>\n",
       "    </tr>\n",
       "    <tr>\n",
       "      <th>136</th>\n",
       "      <td>137</td>\n",
       "      <td>covid-19</td>\n",
       "      <td>1237063585580318720</td>\n",
       "      <td>https://twitter.com/user/status/12370635855803...</td>\n",
       "      <td>market crashing tourism dying travel reduced a...</td>\n",
       "      <td>0.999979</td>\n",
       "      <td>T1-eng-SSN-Transformer</td>\n",
       "    </tr>\n",
       "    <tr>\n",
       "      <th>137</th>\n",
       "      <td>138</td>\n",
       "      <td>covid-19</td>\n",
       "      <td>1237159267070664705</td>\n",
       "      <td>https://twitter.com/user/status/12371592670706...</td>\n",
       "      <td>pray palestine state emergency  case corona vi...</td>\n",
       "      <td>0.999987</td>\n",
       "      <td>T1-eng-SSN-Transformer</td>\n",
       "    </tr>\n",
       "    <tr>\n",
       "      <th>138</th>\n",
       "      <td>139</td>\n",
       "      <td>covid-19</td>\n",
       "      <td>1236972990492897281</td>\n",
       "      <td>https://twitter.com/user/status/12369729904928...</td>\n",
       "      <td>advisory student class suspension made safety ...</td>\n",
       "      <td>0.000010</td>\n",
       "      <td>T1-eng-SSN-Transformer</td>\n",
       "    </tr>\n",
       "    <tr>\n",
       "      <th>139</th>\n",
       "      <td>140</td>\n",
       "      <td>covid-19</td>\n",
       "      <td>1237177675212640261</td>\n",
       "      <td>https://twitter.com/user/status/12371776752126...</td>\n",
       "      <td>total iranian covid casecount hundred thousand...</td>\n",
       "      <td>0.000018</td>\n",
       "      <td>T1-eng-SSN-Transformer</td>\n",
       "    </tr>\n",
       "  </tbody>\n",
       "</table>\n",
       "<p>140 rows × 7 columns</p>\n",
       "</div>"
      ],
      "text/plain": [
       "     index  topic_id             tweet_id  \\\n",
       "0        1  covid-19  1237160250513522688   \n",
       "1        2  covid-19  1237125962871037953   \n",
       "2        3  covid-19  1237207721604235264   \n",
       "3        4  covid-19  1237178597024108552   \n",
       "4        5  covid-19  1237049051058561024   \n",
       "..     ...       ...                  ...   \n",
       "135    136  covid-19  1237094362544209920   \n",
       "136    137  covid-19  1237063585580318720   \n",
       "137    138  covid-19  1237159267070664705   \n",
       "138    139  covid-19  1236972990492897281   \n",
       "139    140  covid-19  1237177675212640261   \n",
       "\n",
       "                                             tweet_url  \\\n",
       "0    https://twitter.com/user/status/12371602505135...   \n",
       "1    https://twitter.com/user/status/12371259628710...   \n",
       "2    https://twitter.com/user/status/12372077216042...   \n",
       "3    https://twitter.com/user/status/12371785970241...   \n",
       "4    https://twitter.com/user/status/12370490510585...   \n",
       "..                                                 ...   \n",
       "135  https://twitter.com/user/status/12370943625442...   \n",
       "136  https://twitter.com/user/status/12370635855803...   \n",
       "137  https://twitter.com/user/status/12371592670706...   \n",
       "138  https://twitter.com/user/status/12369729904928...   \n",
       "139  https://twitter.com/user/status/12371776752126...   \n",
       "\n",
       "                                            tweet_text     score  \\\n",
       "0    potus wanted everyone know close contact gaetz...  0.000010   \n",
       "1    would prefer lead nation response growing coro...  0.000010   \n",
       "2    really really really really really really real...  0.000020   \n",
       "3    baldfaced lie replouiegohmert selfquarantine c...  0.999979   \n",
       "4    live daily medium briefing covid drtedros coro...  0.000010   \n",
       "..                                                 ...       ...   \n",
       "135  corona virus spreading fast spread dont natura...  0.999981   \n",
       "136  market crashing tourism dying travel reduced a...  0.999979   \n",
       "137  pray palestine state emergency  case corona vi...  0.999987   \n",
       "138  advisory student class suspension made safety ...  0.000010   \n",
       "139  total iranian covid casecount hundred thousand...  0.000018   \n",
       "\n",
       "                     run_id  \n",
       "0    T1-eng-SSN-Transformer  \n",
       "1    T1-eng-SSN-Transformer  \n",
       "2    T1-eng-SSN-Transformer  \n",
       "3    T1-eng-SSN-Transformer  \n",
       "4    T1-eng-SSN-Transformer  \n",
       "..                      ...  \n",
       "135  T1-eng-SSN-Transformer  \n",
       "136  T1-eng-SSN-Transformer  \n",
       "137  T1-eng-SSN-Transformer  \n",
       "138  T1-eng-SSN-Transformer  \n",
       "139  T1-eng-SSN-Transformer  \n",
       "\n",
       "[140 rows x 7 columns]"
      ]
     },
     "execution_count": 16,
     "metadata": {},
     "output_type": "execute_result"
    }
   ],
   "source": [
    "submit"
   ]
  },
  {
   "cell_type": "code",
   "execution_count": 17,
   "metadata": {},
   "outputs": [
    {
     "data": {
      "text/html": [
       "<div>\n",
       "<style scoped>\n",
       "    .dataframe tbody tr th:only-of-type {\n",
       "        vertical-align: middle;\n",
       "    }\n",
       "\n",
       "    .dataframe tbody tr th {\n",
       "        vertical-align: top;\n",
       "    }\n",
       "\n",
       "    .dataframe thead th {\n",
       "        text-align: right;\n",
       "    }\n",
       "</style>\n",
       "<table border=\"1\" class=\"dataframe\">\n",
       "  <thead>\n",
       "    <tr style=\"text-align: right;\">\n",
       "      <th></th>\n",
       "      <th>topic_id</th>\n",
       "      <th>tweet_id</th>\n",
       "      <th>score</th>\n",
       "      <th>run_id</th>\n",
       "    </tr>\n",
       "  </thead>\n",
       "  <tbody>\n",
       "    <tr>\n",
       "      <th>0</th>\n",
       "      <td>covid-19</td>\n",
       "      <td>1237160250513522688</td>\n",
       "      <td>0.000010</td>\n",
       "      <td>T1-eng-SSN-Transformer</td>\n",
       "    </tr>\n",
       "    <tr>\n",
       "      <th>1</th>\n",
       "      <td>covid-19</td>\n",
       "      <td>1237125962871037953</td>\n",
       "      <td>0.000010</td>\n",
       "      <td>T1-eng-SSN-Transformer</td>\n",
       "    </tr>\n",
       "    <tr>\n",
       "      <th>2</th>\n",
       "      <td>covid-19</td>\n",
       "      <td>1237207721604235264</td>\n",
       "      <td>0.000020</td>\n",
       "      <td>T1-eng-SSN-Transformer</td>\n",
       "    </tr>\n",
       "    <tr>\n",
       "      <th>3</th>\n",
       "      <td>covid-19</td>\n",
       "      <td>1237178597024108552</td>\n",
       "      <td>0.999979</td>\n",
       "      <td>T1-eng-SSN-Transformer</td>\n",
       "    </tr>\n",
       "    <tr>\n",
       "      <th>4</th>\n",
       "      <td>covid-19</td>\n",
       "      <td>1237049051058561024</td>\n",
       "      <td>0.000010</td>\n",
       "      <td>T1-eng-SSN-Transformer</td>\n",
       "    </tr>\n",
       "    <tr>\n",
       "      <th>...</th>\n",
       "      <td>...</td>\n",
       "      <td>...</td>\n",
       "      <td>...</td>\n",
       "      <td>...</td>\n",
       "    </tr>\n",
       "    <tr>\n",
       "      <th>135</th>\n",
       "      <td>covid-19</td>\n",
       "      <td>1237094362544209920</td>\n",
       "      <td>0.999981</td>\n",
       "      <td>T1-eng-SSN-Transformer</td>\n",
       "    </tr>\n",
       "    <tr>\n",
       "      <th>136</th>\n",
       "      <td>covid-19</td>\n",
       "      <td>1237063585580318720</td>\n",
       "      <td>0.999979</td>\n",
       "      <td>T1-eng-SSN-Transformer</td>\n",
       "    </tr>\n",
       "    <tr>\n",
       "      <th>137</th>\n",
       "      <td>covid-19</td>\n",
       "      <td>1237159267070664705</td>\n",
       "      <td>0.999987</td>\n",
       "      <td>T1-eng-SSN-Transformer</td>\n",
       "    </tr>\n",
       "    <tr>\n",
       "      <th>138</th>\n",
       "      <td>covid-19</td>\n",
       "      <td>1236972990492897281</td>\n",
       "      <td>0.000010</td>\n",
       "      <td>T1-eng-SSN-Transformer</td>\n",
       "    </tr>\n",
       "    <tr>\n",
       "      <th>139</th>\n",
       "      <td>covid-19</td>\n",
       "      <td>1237177675212640261</td>\n",
       "      <td>0.000018</td>\n",
       "      <td>T1-eng-SSN-Transformer</td>\n",
       "    </tr>\n",
       "  </tbody>\n",
       "</table>\n",
       "<p>140 rows × 4 columns</p>\n",
       "</div>"
      ],
      "text/plain": [
       "     topic_id             tweet_id     score                  run_id\n",
       "0    covid-19  1237160250513522688  0.000010  T1-eng-SSN-Transformer\n",
       "1    covid-19  1237125962871037953  0.000010  T1-eng-SSN-Transformer\n",
       "2    covid-19  1237207721604235264  0.000020  T1-eng-SSN-Transformer\n",
       "3    covid-19  1237178597024108552  0.999979  T1-eng-SSN-Transformer\n",
       "4    covid-19  1237049051058561024  0.000010  T1-eng-SSN-Transformer\n",
       "..        ...                  ...       ...                     ...\n",
       "135  covid-19  1237094362544209920  0.999981  T1-eng-SSN-Transformer\n",
       "136  covid-19  1237063585580318720  0.999979  T1-eng-SSN-Transformer\n",
       "137  covid-19  1237159267070664705  0.999987  T1-eng-SSN-Transformer\n",
       "138  covid-19  1236972990492897281  0.000010  T1-eng-SSN-Transformer\n",
       "139  covid-19  1237177675212640261  0.000018  T1-eng-SSN-Transformer\n",
       "\n",
       "[140 rows x 4 columns]"
      ]
     },
     "execution_count": 17,
     "metadata": {},
     "output_type": "execute_result"
    }
   ],
   "source": [
    "submit = submit.drop(['index', 'tweet_url', 'tweet_text'], 1)\n",
    "submit"
   ]
  },
  {
   "cell_type": "code",
   "execution_count": 18,
   "metadata": {},
   "outputs": [],
   "source": [
    "submit.to_csv('t1-roberta.tsv', sep='\\t', index=False)"
   ]
  },
  {
   "cell_type": "code",
   "execution_count": null,
   "metadata": {},
   "outputs": [],
   "source": []
  }
 ],
 "metadata": {
  "kernelspec": {
   "display_name": "Python [conda env:tensorflow1.1] *",
   "language": "python",
   "name": "conda-env-tensorflow1.1-py"
  },
  "language_info": {
   "codemirror_mode": {
    "name": "ipython",
    "version": 3
   },
   "file_extension": ".py",
   "mimetype": "text/x-python",
   "name": "python",
   "nbconvert_exporter": "python",
   "pygments_lexer": "ipython3",
   "version": "3.7.6"
  }
 },
 "nbformat": 4,
 "nbformat_minor": 4
}
